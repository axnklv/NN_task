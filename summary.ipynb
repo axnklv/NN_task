{
 "cells": [
  {
   "cell_type": "markdown",
   "metadata": {},
   "source": [
    "###### Делаем импорт всего, что нам понадобится"
   ]
  },
  {
   "cell_type": "code",
   "execution_count": 1,
   "metadata": {},
   "outputs": [
    {
     "name": "stderr",
     "output_type": "stream",
     "text": [
      "Using TensorFlow backend.\n"
     ]
    }
   ],
   "source": [
    "import pandas as pd\n",
    "import numpy as np\n",
    "\n",
    "from sklearn.model_selection import train_test_split\n",
    "\n",
    "from keras.models import Sequential\n",
    "from keras.layers.core import Dense, Activation, Dropout\n",
    "from keras.utils import np_utils, to_categorical \n",
    "\n",
    "import matplotlib.pyplot as plt"
   ]
  },
  {
   "cell_type": "markdown",
   "metadata": {},
   "source": [
    "##### Смотрим на данные"
   ]
  },
  {
   "cell_type": "code",
   "execution_count": 2,
   "metadata": {
    "scrolled": true
   },
   "outputs": [
    {
     "data": {
      "text/html": [
       "<div>\n",
       "<style scoped>\n",
       "    .dataframe tbody tr th:only-of-type {\n",
       "        vertical-align: middle;\n",
       "    }\n",
       "\n",
       "    .dataframe tbody tr th {\n",
       "        vertical-align: top;\n",
       "    }\n",
       "\n",
       "    .dataframe thead th {\n",
       "        text-align: right;\n",
       "    }\n",
       "</style>\n",
       "<table border=\"1\" class=\"dataframe\">\n",
       "  <thead>\n",
       "    <tr style=\"text-align: right;\">\n",
       "      <th></th>\n",
       "      <th>feature_0</th>\n",
       "      <th>feature_1</th>\n",
       "      <th>feature_2</th>\n",
       "      <th>feature_3</th>\n",
       "      <th>feature_4</th>\n",
       "      <th>feature_5</th>\n",
       "      <th>feature_6</th>\n",
       "      <th>feature_7</th>\n",
       "      <th>feature_8</th>\n",
       "      <th>feature_9</th>\n",
       "      <th>...</th>\n",
       "      <th>feature_761</th>\n",
       "      <th>feature_762</th>\n",
       "      <th>feature_763</th>\n",
       "      <th>feature_764</th>\n",
       "      <th>feature_765</th>\n",
       "      <th>feature_766</th>\n",
       "      <th>feature_767</th>\n",
       "      <th>feature_768</th>\n",
       "      <th>feature_769</th>\n",
       "      <th>class_label</th>\n",
       "    </tr>\n",
       "  </thead>\n",
       "  <tbody>\n",
       "    <tr>\n",
       "      <th>0</th>\n",
       "      <td>0.468241</td>\n",
       "      <td>-0.298164</td>\n",
       "      <td>0.232144</td>\n",
       "      <td>0.236039</td>\n",
       "      <td>-0.121149</td>\n",
       "      <td>-0.154046</td>\n",
       "      <td>-0.316271</td>\n",
       "      <td>0.568260</td>\n",
       "      <td>0.215421</td>\n",
       "      <td>-0.330563</td>\n",
       "      <td>...</td>\n",
       "      <td>0.278312</td>\n",
       "      <td>-0.899671</td>\n",
       "      <td>-0.074011</td>\n",
       "      <td>-0.939633</td>\n",
       "      <td>0.246052</td>\n",
       "      <td>0.013475</td>\n",
       "      <td>0.265324</td>\n",
       "      <td>73</td>\n",
       "      <td>15</td>\n",
       "      <td>7</td>\n",
       "    </tr>\n",
       "    <tr>\n",
       "      <th>1</th>\n",
       "      <td>0.258637</td>\n",
       "      <td>0.299068</td>\n",
       "      <td>-0.513382</td>\n",
       "      <td>0.975493</td>\n",
       "      <td>-0.081143</td>\n",
       "      <td>-0.188614</td>\n",
       "      <td>-0.963915</td>\n",
       "      <td>0.800069</td>\n",
       "      <td>-0.592174</td>\n",
       "      <td>-0.770610</td>\n",
       "      <td>...</td>\n",
       "      <td>0.630870</td>\n",
       "      <td>-0.232211</td>\n",
       "      <td>-0.030725</td>\n",
       "      <td>0.057358</td>\n",
       "      <td>0.384939</td>\n",
       "      <td>-0.316699</td>\n",
       "      <td>0.331102</td>\n",
       "      <td>24</td>\n",
       "      <td>3</td>\n",
       "      <td>7</td>\n",
       "    </tr>\n",
       "    <tr>\n",
       "      <th>2</th>\n",
       "      <td>0.537912</td>\n",
       "      <td>0.173653</td>\n",
       "      <td>0.144184</td>\n",
       "      <td>-0.404364</td>\n",
       "      <td>-0.487603</td>\n",
       "      <td>-0.381795</td>\n",
       "      <td>-0.427099</td>\n",
       "      <td>0.279304</td>\n",
       "      <td>0.055201</td>\n",
       "      <td>0.418484</td>\n",
       "      <td>...</td>\n",
       "      <td>0.695762</td>\n",
       "      <td>-0.546673</td>\n",
       "      <td>-0.029725</td>\n",
       "      <td>0.364111</td>\n",
       "      <td>0.243729</td>\n",
       "      <td>0.454004</td>\n",
       "      <td>0.240177</td>\n",
       "      <td>89</td>\n",
       "      <td>13</td>\n",
       "      <td>7</td>\n",
       "    </tr>\n",
       "    <tr>\n",
       "      <th>3</th>\n",
       "      <td>-0.034786</td>\n",
       "      <td>0.129126</td>\n",
       "      <td>0.832070</td>\n",
       "      <td>-0.008820</td>\n",
       "      <td>-0.345535</td>\n",
       "      <td>-0.799636</td>\n",
       "      <td>-0.171435</td>\n",
       "      <td>-0.134418</td>\n",
       "      <td>0.562755</td>\n",
       "      <td>0.054717</td>\n",
       "      <td>...</td>\n",
       "      <td>0.009953</td>\n",
       "      <td>-0.535356</td>\n",
       "      <td>0.257352</td>\n",
       "      <td>0.069130</td>\n",
       "      <td>-0.836608</td>\n",
       "      <td>0.003982</td>\n",
       "      <td>0.752938</td>\n",
       "      <td>12</td>\n",
       "      <td>1</td>\n",
       "      <td>7</td>\n",
       "    </tr>\n",
       "    <tr>\n",
       "      <th>4</th>\n",
       "      <td>0.245363</td>\n",
       "      <td>-0.316505</td>\n",
       "      <td>0.092601</td>\n",
       "      <td>-0.151767</td>\n",
       "      <td>-0.252607</td>\n",
       "      <td>-0.144336</td>\n",
       "      <td>0.120053</td>\n",
       "      <td>0.118530</td>\n",
       "      <td>-0.077199</td>\n",
       "      <td>-0.028314</td>\n",
       "      <td>...</td>\n",
       "      <td>0.209629</td>\n",
       "      <td>-0.484586</td>\n",
       "      <td>0.007367</td>\n",
       "      <td>-0.261611</td>\n",
       "      <td>-0.115487</td>\n",
       "      <td>0.354035</td>\n",
       "      <td>0.113368</td>\n",
       "      <td>125</td>\n",
       "      <td>20</td>\n",
       "      <td>6</td>\n",
       "    </tr>\n",
       "  </tbody>\n",
       "</table>\n",
       "<p>5 rows × 771 columns</p>\n",
       "</div>"
      ],
      "text/plain": [
       "   feature_0  feature_1  feature_2  feature_3  feature_4  feature_5  \\\n",
       "0   0.468241  -0.298164   0.232144   0.236039  -0.121149  -0.154046   \n",
       "1   0.258637   0.299068  -0.513382   0.975493  -0.081143  -0.188614   \n",
       "2   0.537912   0.173653   0.144184  -0.404364  -0.487603  -0.381795   \n",
       "3  -0.034786   0.129126   0.832070  -0.008820  -0.345535  -0.799636   \n",
       "4   0.245363  -0.316505   0.092601  -0.151767  -0.252607  -0.144336   \n",
       "\n",
       "   feature_6  feature_7  feature_8  feature_9     ...       feature_761  \\\n",
       "0  -0.316271   0.568260   0.215421  -0.330563     ...          0.278312   \n",
       "1  -0.963915   0.800069  -0.592174  -0.770610     ...          0.630870   \n",
       "2  -0.427099   0.279304   0.055201   0.418484     ...          0.695762   \n",
       "3  -0.171435  -0.134418   0.562755   0.054717     ...          0.009953   \n",
       "4   0.120053   0.118530  -0.077199  -0.028314     ...          0.209629   \n",
       "\n",
       "   feature_762  feature_763  feature_764  feature_765  feature_766  \\\n",
       "0    -0.899671    -0.074011    -0.939633     0.246052     0.013475   \n",
       "1    -0.232211    -0.030725     0.057358     0.384939    -0.316699   \n",
       "2    -0.546673    -0.029725     0.364111     0.243729     0.454004   \n",
       "3    -0.535356     0.257352     0.069130    -0.836608     0.003982   \n",
       "4    -0.484586     0.007367    -0.261611    -0.115487     0.354035   \n",
       "\n",
       "   feature_767  feature_768  feature_769  class_label  \n",
       "0     0.265324           73           15            7  \n",
       "1     0.331102           24            3            7  \n",
       "2     0.240177           89           13            7  \n",
       "3     0.752938           12            1            7  \n",
       "4     0.113368          125           20            6  \n",
       "\n",
       "[5 rows x 771 columns]"
      ]
     },
     "execution_count": 2,
     "metadata": {},
     "output_type": "execute_result"
    }
   ],
   "source": [
    "# читаем train\n",
    "train = pd.read_csv('train.csv')\n",
    "train.head()"
   ]
  },
  {
   "cell_type": "markdown",
   "metadata": {},
   "source": [
    "###### Видно, что feature_768 и 769 очень сильно отличаются от всех остальных, значит их нужно как-то нормализовать\n",
    "\n",
    "###### Я пробовал 2 способа : логарифмировать все значения или разделить каждое значение столбца на максимальное значение в этом столбце - log показал себя лучше"
   ]
  },
  {
   "cell_type": "code",
   "execution_count": 3,
   "metadata": {},
   "outputs": [
    {
     "data": {
      "text/plain": [
       "(90847, 771)"
      ]
     },
     "execution_count": 3,
     "metadata": {},
     "output_type": "execute_result"
    }
   ],
   "source": [
    "train.shape"
   ]
  },
  {
   "cell_type": "code",
   "execution_count": 4,
   "metadata": {},
   "outputs": [
    {
     "data": {
      "text/plain": [
       "7     81399\n",
       "4      2928\n",
       "11     1220\n",
       "5       954\n",
       "6       822\n",
       "1       631\n",
       "9       563\n",
       "0       531\n",
       "8       505\n",
       "10      428\n",
       "12      308\n",
       "3       252\n",
       "13      180\n",
       "2       126\n",
       "dtype: int64"
      ]
     },
     "execution_count": 4,
     "metadata": {},
     "output_type": "execute_result"
    }
   ],
   "source": [
    "# смотрим распределение по классам\n",
    "pd.value_counts(train['class_label'].values)"
   ]
  },
  {
   "cell_type": "code",
   "execution_count": 5,
   "metadata": {},
   "outputs": [
    {
     "data": {
      "text/plain": [
       "0"
      ]
     },
     "execution_count": 5,
     "metadata": {},
     "output_type": "execute_result"
    }
   ],
   "source": [
    "# проверяем количество nan в нашем фрейме\n",
    "train.isnull().sum().sum()"
   ]
  },
  {
   "cell_type": "code",
   "execution_count": 6,
   "metadata": {},
   "outputs": [
    {
     "data": {
      "text/plain": [
       "0    4.290459\n",
       "1    3.178054\n",
       "2    4.488636\n",
       "3    2.484907\n",
       "4    4.828314\n",
       "Name: feature_768, dtype: float64"
      ]
     },
     "execution_count": 6,
     "metadata": {},
     "output_type": "execute_result"
    }
   ],
   "source": [
    "train.iloc[:,-3] = np.log(train.iloc[:,-3])\n",
    "train.iloc[:,-3].head()\n",
    "# если ещё один раз сделать логарифм, то где-то вылетит деление на ноль, поэтому ограничимся одним"
   ]
  },
  {
   "cell_type": "code",
   "execution_count": 7,
   "metadata": {},
   "outputs": [
    {
     "data": {
      "text/plain": [
       "0    2.708050\n",
       "1    1.098612\n",
       "2    2.564949\n",
       "3    0.000000\n",
       "4    2.995732\n",
       "Name: feature_769, dtype: float64"
      ]
     },
     "execution_count": 7,
     "metadata": {},
     "output_type": "execute_result"
    }
   ],
   "source": [
    "train.iloc[:,-2] = np.log(train.iloc[:,-2])\n",
    "train.iloc[:,-2].head()"
   ]
  },
  {
   "cell_type": "markdown",
   "metadata": {},
   "source": [
    "###### После того как значения этих фич немного оптимизировались, можно идти дальше"
   ]
  },
  {
   "cell_type": "code",
   "execution_count": 8,
   "metadata": {},
   "outputs": [],
   "source": [
    "## shuffle and split the data into training and testing subsets\n",
    "## no need to set test_size if train_size has been determined before and naoborot, but still for more understanding i keep it\n",
    "# train_X, test_X, train_y, test_y = train_test_split(X, y, train_size=0.5, test_size=0.5, random_state=0)\n",
    "## success\n",
    "# print(\"Training and testing split was successful, move on\")"
   ]
  },
  {
   "cell_type": "markdown",
   "metadata": {},
   "source": [
    "###### Изначально я делал сплит всей выборки на тестовую и трэйновую, пробуя разбивать в разных пропорциях\n",
    "\n",
    "###### Но, видимо, из-за сильного дизбаланса в сторону класса номер 7, в тестовую выборку могло попадать его очень много, что плохо сказывалось на точности\n",
    "\n",
    "###### Поэтому впоследствии я отказался от сплита выборки и обучал модель на всей"
   ]
  },
  {
   "cell_type": "markdown",
   "metadata": {},
   "source": [
    "###### Проверяем, что в X и y лежит то, что нам необходимо для трэйна"
   ]
  },
  {
   "cell_type": "code",
   "execution_count": 9,
   "metadata": {},
   "outputs": [
    {
     "data": {
      "text/html": [
       "<div>\n",
       "<style scoped>\n",
       "    .dataframe tbody tr th:only-of-type {\n",
       "        vertical-align: middle;\n",
       "    }\n",
       "\n",
       "    .dataframe tbody tr th {\n",
       "        vertical-align: top;\n",
       "    }\n",
       "\n",
       "    .dataframe thead th {\n",
       "        text-align: right;\n",
       "    }\n",
       "</style>\n",
       "<table border=\"1\" class=\"dataframe\">\n",
       "  <thead>\n",
       "    <tr style=\"text-align: right;\">\n",
       "      <th></th>\n",
       "      <th>feature_0</th>\n",
       "      <th>feature_1</th>\n",
       "      <th>feature_2</th>\n",
       "      <th>feature_3</th>\n",
       "      <th>feature_4</th>\n",
       "      <th>feature_5</th>\n",
       "      <th>feature_6</th>\n",
       "      <th>feature_7</th>\n",
       "      <th>feature_8</th>\n",
       "      <th>feature_9</th>\n",
       "      <th>...</th>\n",
       "      <th>feature_760</th>\n",
       "      <th>feature_761</th>\n",
       "      <th>feature_762</th>\n",
       "      <th>feature_763</th>\n",
       "      <th>feature_764</th>\n",
       "      <th>feature_765</th>\n",
       "      <th>feature_766</th>\n",
       "      <th>feature_767</th>\n",
       "      <th>feature_768</th>\n",
       "      <th>feature_769</th>\n",
       "    </tr>\n",
       "  </thead>\n",
       "  <tbody>\n",
       "    <tr>\n",
       "      <th>0</th>\n",
       "      <td>0.468241</td>\n",
       "      <td>-0.298164</td>\n",
       "      <td>0.232144</td>\n",
       "      <td>0.236039</td>\n",
       "      <td>-0.121149</td>\n",
       "      <td>-0.154046</td>\n",
       "      <td>-0.316271</td>\n",
       "      <td>0.568260</td>\n",
       "      <td>0.215421</td>\n",
       "      <td>-0.330563</td>\n",
       "      <td>...</td>\n",
       "      <td>-0.305612</td>\n",
       "      <td>0.278312</td>\n",
       "      <td>-0.899671</td>\n",
       "      <td>-0.074011</td>\n",
       "      <td>-0.939633</td>\n",
       "      <td>0.246052</td>\n",
       "      <td>0.013475</td>\n",
       "      <td>0.265324</td>\n",
       "      <td>4.290459</td>\n",
       "      <td>2.708050</td>\n",
       "    </tr>\n",
       "    <tr>\n",
       "      <th>1</th>\n",
       "      <td>0.258637</td>\n",
       "      <td>0.299068</td>\n",
       "      <td>-0.513382</td>\n",
       "      <td>0.975493</td>\n",
       "      <td>-0.081143</td>\n",
       "      <td>-0.188614</td>\n",
       "      <td>-0.963915</td>\n",
       "      <td>0.800069</td>\n",
       "      <td>-0.592174</td>\n",
       "      <td>-0.770610</td>\n",
       "      <td>...</td>\n",
       "      <td>-0.102153</td>\n",
       "      <td>0.630870</td>\n",
       "      <td>-0.232211</td>\n",
       "      <td>-0.030725</td>\n",
       "      <td>0.057358</td>\n",
       "      <td>0.384939</td>\n",
       "      <td>-0.316699</td>\n",
       "      <td>0.331102</td>\n",
       "      <td>3.178054</td>\n",
       "      <td>1.098612</td>\n",
       "    </tr>\n",
       "    <tr>\n",
       "      <th>2</th>\n",
       "      <td>0.537912</td>\n",
       "      <td>0.173653</td>\n",
       "      <td>0.144184</td>\n",
       "      <td>-0.404364</td>\n",
       "      <td>-0.487603</td>\n",
       "      <td>-0.381795</td>\n",
       "      <td>-0.427099</td>\n",
       "      <td>0.279304</td>\n",
       "      <td>0.055201</td>\n",
       "      <td>0.418484</td>\n",
       "      <td>...</td>\n",
       "      <td>0.221725</td>\n",
       "      <td>0.695762</td>\n",
       "      <td>-0.546673</td>\n",
       "      <td>-0.029725</td>\n",
       "      <td>0.364111</td>\n",
       "      <td>0.243729</td>\n",
       "      <td>0.454004</td>\n",
       "      <td>0.240177</td>\n",
       "      <td>4.488636</td>\n",
       "      <td>2.564949</td>\n",
       "    </tr>\n",
       "    <tr>\n",
       "      <th>3</th>\n",
       "      <td>-0.034786</td>\n",
       "      <td>0.129126</td>\n",
       "      <td>0.832070</td>\n",
       "      <td>-0.008820</td>\n",
       "      <td>-0.345535</td>\n",
       "      <td>-0.799636</td>\n",
       "      <td>-0.171435</td>\n",
       "      <td>-0.134418</td>\n",
       "      <td>0.562755</td>\n",
       "      <td>0.054717</td>\n",
       "      <td>...</td>\n",
       "      <td>-0.726146</td>\n",
       "      <td>0.009953</td>\n",
       "      <td>-0.535356</td>\n",
       "      <td>0.257352</td>\n",
       "      <td>0.069130</td>\n",
       "      <td>-0.836608</td>\n",
       "      <td>0.003982</td>\n",
       "      <td>0.752938</td>\n",
       "      <td>2.484907</td>\n",
       "      <td>0.000000</td>\n",
       "    </tr>\n",
       "    <tr>\n",
       "      <th>4</th>\n",
       "      <td>0.245363</td>\n",
       "      <td>-0.316505</td>\n",
       "      <td>0.092601</td>\n",
       "      <td>-0.151767</td>\n",
       "      <td>-0.252607</td>\n",
       "      <td>-0.144336</td>\n",
       "      <td>0.120053</td>\n",
       "      <td>0.118530</td>\n",
       "      <td>-0.077199</td>\n",
       "      <td>-0.028314</td>\n",
       "      <td>...</td>\n",
       "      <td>-0.254441</td>\n",
       "      <td>0.209629</td>\n",
       "      <td>-0.484586</td>\n",
       "      <td>0.007367</td>\n",
       "      <td>-0.261611</td>\n",
       "      <td>-0.115487</td>\n",
       "      <td>0.354035</td>\n",
       "      <td>0.113368</td>\n",
       "      <td>4.828314</td>\n",
       "      <td>2.995732</td>\n",
       "    </tr>\n",
       "  </tbody>\n",
       "</table>\n",
       "<p>5 rows × 770 columns</p>\n",
       "</div>"
      ],
      "text/plain": [
       "   feature_0  feature_1  feature_2  feature_3  feature_4  feature_5  \\\n",
       "0   0.468241  -0.298164   0.232144   0.236039  -0.121149  -0.154046   \n",
       "1   0.258637   0.299068  -0.513382   0.975493  -0.081143  -0.188614   \n",
       "2   0.537912   0.173653   0.144184  -0.404364  -0.487603  -0.381795   \n",
       "3  -0.034786   0.129126   0.832070  -0.008820  -0.345535  -0.799636   \n",
       "4   0.245363  -0.316505   0.092601  -0.151767  -0.252607  -0.144336   \n",
       "\n",
       "   feature_6  feature_7  feature_8  feature_9     ...       feature_760  \\\n",
       "0  -0.316271   0.568260   0.215421  -0.330563     ...         -0.305612   \n",
       "1  -0.963915   0.800069  -0.592174  -0.770610     ...         -0.102153   \n",
       "2  -0.427099   0.279304   0.055201   0.418484     ...          0.221725   \n",
       "3  -0.171435  -0.134418   0.562755   0.054717     ...         -0.726146   \n",
       "4   0.120053   0.118530  -0.077199  -0.028314     ...         -0.254441   \n",
       "\n",
       "   feature_761  feature_762  feature_763  feature_764  feature_765  \\\n",
       "0     0.278312    -0.899671    -0.074011    -0.939633     0.246052   \n",
       "1     0.630870    -0.232211    -0.030725     0.057358     0.384939   \n",
       "2     0.695762    -0.546673    -0.029725     0.364111     0.243729   \n",
       "3     0.009953    -0.535356     0.257352     0.069130    -0.836608   \n",
       "4     0.209629    -0.484586     0.007367    -0.261611    -0.115487   \n",
       "\n",
       "   feature_766  feature_767  feature_768  feature_769  \n",
       "0     0.013475     0.265324     4.290459     2.708050  \n",
       "1    -0.316699     0.331102     3.178054     1.098612  \n",
       "2     0.454004     0.240177     4.488636     2.564949  \n",
       "3     0.003982     0.752938     2.484907     0.000000  \n",
       "4     0.354035     0.113368     4.828314     2.995732  \n",
       "\n",
       "[5 rows x 770 columns]"
      ]
     },
     "execution_count": 9,
     "metadata": {},
     "output_type": "execute_result"
    }
   ],
   "source": [
    "X = train.iloc[:,:-1]\n",
    "X.head()"
   ]
  },
  {
   "cell_type": "code",
   "execution_count": 10,
   "metadata": {},
   "outputs": [
    {
     "data": {
      "text/plain": [
       "0    7\n",
       "1    7\n",
       "2    7\n",
       "3    7\n",
       "4    6\n",
       "Name: class_label, dtype: int64"
      ]
     },
     "execution_count": 10,
     "metadata": {},
     "output_type": "execute_result"
    }
   ],
   "source": [
    "y = train.iloc[:, -1]\n",
    "y.head()"
   ]
  },
  {
   "cell_type": "code",
   "execution_count": 11,
   "metadata": {},
   "outputs": [
    {
     "name": "stdout",
     "output_type": "stream",
     "text": [
      "[[0. 0. 0. ... 0. 0. 0.]\n",
      " [0. 0. 0. ... 0. 0. 0.]\n",
      " [0. 0. 0. ... 0. 0. 0.]\n",
      " ...\n",
      " [0. 0. 0. ... 0. 0. 0.]\n",
      " [0. 0. 0. ... 0. 0. 0.]\n",
      " [0. 0. 0. ... 0. 0. 0.]]\n"
     ]
    }
   ],
   "source": [
    "# преобразование одномерного вектора в матрицу бинарных классов\n",
    "Y = to_categorical(y)\n",
    "print(Y)"
   ]
  },
  {
   "cell_type": "code",
   "execution_count": 12,
   "metadata": {},
   "outputs": [],
   "source": [
    "model = Sequential()"
   ]
  },
  {
   "cell_type": "code",
   "execution_count": 13,
   "metadata": {},
   "outputs": [
    {
     "name": "stdout",
     "output_type": "stream",
     "text": [
      "WARNING:tensorflow:From C:\\ProgramData\\Anaconda3\\lib\\site-packages\\tensorflow\\python\\framework\\op_def_library.py:263: colocate_with (from tensorflow.python.framework.ops) is deprecated and will be removed in a future version.\n",
      "Instructions for updating:\n",
      "Colocations handled automatically by placer.\n",
      "WARNING:tensorflow:From C:\\ProgramData\\Anaconda3\\lib\\site-packages\\keras\\backend\\tensorflow_backend.py:3445: calling dropout (from tensorflow.python.ops.nn_ops) with keep_prob is deprecated and will be removed in a future version.\n",
      "Instructions for updating:\n",
      "Please use `rate` instead of `keep_prob`. Rate should be set to `rate = 1 - keep_prob`.\n",
      "_________________________________________________________________\n",
      "Layer (type)                 Output Shape              Param #   \n",
      "=================================================================\n",
      "dense_1 (Dense)              (None, 770)               593670    \n",
      "_________________________________________________________________\n",
      "dropout_1 (Dropout)          (None, 770)               0         \n",
      "_________________________________________________________________\n",
      "dense_2 (Dense)              (None, 1540)              1187340   \n",
      "_________________________________________________________________\n",
      "dropout_2 (Dropout)          (None, 1540)              0         \n",
      "_________________________________________________________________\n",
      "dense_3 (Dense)              (None, 14)                21574     \n",
      "=================================================================\n",
      "Total params: 1,802,584\n",
      "Trainable params: 1,802,584\n",
      "Non-trainable params: 0\n",
      "_________________________________________________________________\n"
     ]
    }
   ],
   "source": [
    "model.add(Dense(770, activation='relu', input_dim = 770))\n",
    "model.add(Dropout(0.1))\n",
    "model.add(Dense(1540, activation='relu'))\n",
    "model.add(Dropout(0.1))\n",
    "model.add(Dense(14, activation='softmax'))\n",
    "model.compile(optimizer='adam', loss='categorical_crossentropy', metrics=['accuracy'])\n",
    "model.summary()"
   ]
  },
  {
   "cell_type": "markdown",
   "metadata": {},
   "source": [
    "###### Из всех различных комбинаций различных функций активаций и оптимизаторов, лучше всего проявили себе эти\n",
    "\n",
    "###### Я пробовал различное количество слоёв с различным количеством нейронов, но при большем количестве слоёв точность никак не росла, но в связи с ростом количества нейронов, увеличивалось время обучения\n",
    "\n",
    "###### Эмпирически выявил, что 770 нейронов в первом слое и 1540(в 2 раза больше) во втором, дают оптимальный результат\n",
    "\n",
    "###### Добавление дропаутов поспособствовало повышению скора, видимо сказывался сильный дизбаланс в сторону класса №7 и было небольшое переобучение"
   ]
  },
  {
   "cell_type": "code",
   "execution_count": 14,
   "metadata": {},
   "outputs": [
    {
     "name": "stdout",
     "output_type": "stream",
     "text": [
      "WARNING:tensorflow:From C:\\ProgramData\\Anaconda3\\lib\\site-packages\\tensorflow\\python\\ops\\math_ops.py:3066: to_int32 (from tensorflow.python.ops.math_ops) is deprecated and will be removed in a future version.\n",
      "Instructions for updating:\n",
      "Use tf.cast instead.\n",
      "Epoch 1/10\n",
      "90847/90847 [==============================] - 67s 737us/step - loss: 0.1858 - acc: 0.9447\n",
      "Epoch 2/10\n",
      "90847/90847 [==============================] - 59s 650us/step - loss: 0.1178 - acc: 0.9584\n",
      "Epoch 3/10\n",
      "90847/90847 [==============================] - 59s 646us/step - loss: 0.1042 - acc: 0.9627\n",
      "Epoch 4/10\n",
      "90847/90847 [==============================] - 59s 646us/step - loss: 0.0940 - acc: 0.9660\n",
      "Epoch 5/10\n",
      "90847/90847 [==============================] - 58s 643us/step - loss: 0.0861 - acc: 0.9684\n",
      "Epoch 6/10\n",
      "90847/90847 [==============================] - 58s 643us/step - loss: 0.0789 - acc: 0.9699\n",
      "Epoch 7/10\n",
      "90847/90847 [==============================] - 60s 656us/step - loss: 0.0721 - acc: 0.9726\n",
      "Epoch 8/10\n",
      "90847/90847 [==============================] - 58s 634us/step - loss: 0.0657 - acc: 0.9748\n",
      "Epoch 9/10\n",
      "90847/90847 [==============================] - 58s 643us/step - loss: 0.0610 - acc: 0.9766\n",
      "Epoch 10/10\n",
      "90847/90847 [==============================] - 58s 642us/step - loss: 0.0560 - acc: 0.9786\n"
     ]
    }
   ],
   "source": [
    "training = model.fit(X, Y, epochs=10, batch_size=128)"
   ]
  },
  {
   "cell_type": "code",
   "execution_count": 45,
   "metadata": {},
   "outputs": [],
   "source": [
    "import seaborn as sns\n",
    "sns.set(rc={'figure.figsize':(10,5)})"
   ]
  },
  {
   "cell_type": "markdown",
   "metadata": {},
   "source": [
    "##### Смотрим на графиках как изменялись acc и loss с количеством эпох"
   ]
  },
  {
   "cell_type": "code",
   "execution_count": 46,
   "metadata": {},
   "outputs": [
    {
     "data": {
      "image/png": "[encoded data removed]",
      "text/plain": [
       "<Figure size 720x360 with 1 Axes>"
      ]
     },
     "metadata": {},
     "output_type": "display_data"
    }
   ],
   "source": [
    "plt.plot(range(len(training.history['acc'])), training.history['acc'])\n",
    "plt.xlabel('Epochs')\n",
    "plt.ylabel('accuracy')\n",
    "plt.show()"
   ]
  },
  {
   "cell_type": "code",
   "execution_count": 47,
   "metadata": {},
   "outputs": [
    {
     "data": {
      "image/png": "[encoded data removed]",
      "text/plain": [
       "<Figure size 720x360 with 1 Axes>"
      ]
     },
     "metadata": {},
     "output_type": "display_data"
    }
   ],
   "source": [
    "plt.plot(range(len(training.history['loss'])), training.history['loss'])\n",
    "plt.xlabel('Epochs')\n",
    "plt.ylabel('loss')\n",
    "plt.show()"
   ]
  },
  {
   "cell_type": "markdown",
   "metadata": {},
   "source": [
    "###### Сохранение модели, чтобы потом можно было загрузить готовую и не фитить заново"
   ]
  },
  {
   "cell_type": "code",
   "execution_count": 23,
   "metadata": {},
   "outputs": [
    {
     "name": "stdout",
     "output_type": "stream",
     "text": [
      "Model saved to disk\n"
     ]
    }
   ],
   "source": [
    "# сохраняем в json\n",
    "\n",
    "import os\n",
    "from keras.models import model_from_json\n",
    "\n",
    "model_json = model.to_json()\n",
    "with open(\"submit_model.json\", \"w\") as json_file:\n",
    "    json_file.write(model_json)\n",
    "# serialize weights to HDF5\n",
    "model.save_weights(\"submit_model.h5\")\n",
    "print(\"Model saved to disk\")"
   ]
  },
  {
   "cell_type": "code",
   "execution_count": 24,
   "metadata": {},
   "outputs": [],
   "source": [
    "# если хотим загрузить её\n",
    "\n",
    "# json_file = open('model.json', 'r')\n",
    "# loaded_model = json_file.read()\n",
    "# json_file.close()\n",
    "# loaded_model = model_from_json(loaded_model_json)\n",
    "\n",
    "## если хотим загрузить веса в новую модель\n",
    "# loaded_model.load_weights(\"model.h5\")\n",
    "# print(\"Loaded model from disk\")"
   ]
  },
  {
   "cell_type": "markdown",
   "metadata": {},
   "source": [
    "###### Опять смотрим на данные, делаем те же манипуляции, что и с train"
   ]
  },
  {
   "cell_type": "code",
   "execution_count": 25,
   "metadata": {},
   "outputs": [
    {
     "data": {
      "text/html": [
       "<div>\n",
       "<style scoped>\n",
       "    .dataframe tbody tr th:only-of-type {\n",
       "        vertical-align: middle;\n",
       "    }\n",
       "\n",
       "    .dataframe tbody tr th {\n",
       "        vertical-align: top;\n",
       "    }\n",
       "\n",
       "    .dataframe thead th {\n",
       "        text-align: right;\n",
       "    }\n",
       "</style>\n",
       "<table border=\"1\" class=\"dataframe\">\n",
       "  <thead>\n",
       "    <tr style=\"text-align: right;\">\n",
       "      <th></th>\n",
       "      <th>feature_0</th>\n",
       "      <th>feature_1</th>\n",
       "      <th>feature_2</th>\n",
       "      <th>feature_3</th>\n",
       "      <th>feature_4</th>\n",
       "      <th>feature_5</th>\n",
       "      <th>feature_6</th>\n",
       "      <th>feature_7</th>\n",
       "      <th>feature_8</th>\n",
       "      <th>feature_9</th>\n",
       "      <th>...</th>\n",
       "      <th>feature_760</th>\n",
       "      <th>feature_761</th>\n",
       "      <th>feature_762</th>\n",
       "      <th>feature_763</th>\n",
       "      <th>feature_764</th>\n",
       "      <th>feature_765</th>\n",
       "      <th>feature_766</th>\n",
       "      <th>feature_767</th>\n",
       "      <th>feature_768</th>\n",
       "      <th>feature_769</th>\n",
       "    </tr>\n",
       "  </thead>\n",
       "  <tbody>\n",
       "    <tr>\n",
       "      <th>0</th>\n",
       "      <td>0.291123</td>\n",
       "      <td>-0.253527</td>\n",
       "      <td>0.083138</td>\n",
       "      <td>0.135609</td>\n",
       "      <td>-0.076418</td>\n",
       "      <td>-0.633257</td>\n",
       "      <td>-0.246189</td>\n",
       "      <td>-0.042812</td>\n",
       "      <td>0.110341</td>\n",
       "      <td>-0.698179</td>\n",
       "      <td>...</td>\n",
       "      <td>-0.180544</td>\n",
       "      <td>0.720984</td>\n",
       "      <td>-0.048264</td>\n",
       "      <td>0.168162</td>\n",
       "      <td>-0.040482</td>\n",
       "      <td>-0.789424</td>\n",
       "      <td>0.728364</td>\n",
       "      <td>0.194325</td>\n",
       "      <td>46</td>\n",
       "      <td>8</td>\n",
       "    </tr>\n",
       "    <tr>\n",
       "      <th>1</th>\n",
       "      <td>0.163060</td>\n",
       "      <td>0.234249</td>\n",
       "      <td>-0.548482</td>\n",
       "      <td>-0.342477</td>\n",
       "      <td>-0.249341</td>\n",
       "      <td>-0.985170</td>\n",
       "      <td>0.162305</td>\n",
       "      <td>-0.148927</td>\n",
       "      <td>0.142731</td>\n",
       "      <td>-0.011801</td>\n",
       "      <td>...</td>\n",
       "      <td>0.069228</td>\n",
       "      <td>-0.050886</td>\n",
       "      <td>-0.565478</td>\n",
       "      <td>0.064885</td>\n",
       "      <td>0.066026</td>\n",
       "      <td>-0.407953</td>\n",
       "      <td>-0.025636</td>\n",
       "      <td>0.636805</td>\n",
       "      <td>39</td>\n",
       "      <td>6</td>\n",
       "    </tr>\n",
       "    <tr>\n",
       "      <th>2</th>\n",
       "      <td>0.703451</td>\n",
       "      <td>0.098007</td>\n",
       "      <td>0.544434</td>\n",
       "      <td>0.014882</td>\n",
       "      <td>0.518644</td>\n",
       "      <td>-1.115419</td>\n",
       "      <td>-1.167563</td>\n",
       "      <td>1.226244</td>\n",
       "      <td>1.086993</td>\n",
       "      <td>-0.053461</td>\n",
       "      <td>...</td>\n",
       "      <td>-1.328980</td>\n",
       "      <td>-0.004549</td>\n",
       "      <td>-1.039244</td>\n",
       "      <td>0.413667</td>\n",
       "      <td>-0.353347</td>\n",
       "      <td>1.104391</td>\n",
       "      <td>-0.833524</td>\n",
       "      <td>0.122031</td>\n",
       "      <td>15</td>\n",
       "      <td>1</td>\n",
       "    </tr>\n",
       "    <tr>\n",
       "      <th>3</th>\n",
       "      <td>0.061817</td>\n",
       "      <td>0.186173</td>\n",
       "      <td>0.763211</td>\n",
       "      <td>1.427817</td>\n",
       "      <td>-0.001758</td>\n",
       "      <td>0.213115</td>\n",
       "      <td>-0.646739</td>\n",
       "      <td>0.179483</td>\n",
       "      <td>0.124432</td>\n",
       "      <td>0.776010</td>\n",
       "      <td>...</td>\n",
       "      <td>-0.010719</td>\n",
       "      <td>0.660402</td>\n",
       "      <td>-1.323791</td>\n",
       "      <td>-0.091303</td>\n",
       "      <td>0.477664</td>\n",
       "      <td>0.746058</td>\n",
       "      <td>-0.441786</td>\n",
       "      <td>0.078916</td>\n",
       "      <td>15</td>\n",
       "      <td>2</td>\n",
       "    </tr>\n",
       "    <tr>\n",
       "      <th>4</th>\n",
       "      <td>0.899542</td>\n",
       "      <td>-0.470085</td>\n",
       "      <td>0.829839</td>\n",
       "      <td>-0.233863</td>\n",
       "      <td>-0.282362</td>\n",
       "      <td>-0.952958</td>\n",
       "      <td>0.393720</td>\n",
       "      <td>0.159785</td>\n",
       "      <td>-0.751585</td>\n",
       "      <td>-1.159093</td>\n",
       "      <td>...</td>\n",
       "      <td>-0.806075</td>\n",
       "      <td>0.534299</td>\n",
       "      <td>-0.993201</td>\n",
       "      <td>0.368099</td>\n",
       "      <td>0.368674</td>\n",
       "      <td>-0.500146</td>\n",
       "      <td>-0.428940</td>\n",
       "      <td>0.510619</td>\n",
       "      <td>2</td>\n",
       "      <td>1</td>\n",
       "    </tr>\n",
       "  </tbody>\n",
       "</table>\n",
       "<p>5 rows × 770 columns</p>\n",
       "</div>"
      ],
      "text/plain": [
       "   feature_0  feature_1  feature_2  feature_3  feature_4  feature_5  \\\n",
       "0   0.291123  -0.253527   0.083138   0.135609  -0.076418  -0.633257   \n",
       "1   0.163060   0.234249  -0.548482  -0.342477  -0.249341  -0.985170   \n",
       "2   0.703451   0.098007   0.544434   0.014882   0.518644  -1.115419   \n",
       "3   0.061817   0.186173   0.763211   1.427817  -0.001758   0.213115   \n",
       "4   0.899542  -0.470085   0.829839  -0.233863  -0.282362  -0.952958   \n",
       "\n",
       "   feature_6  feature_7  feature_8  feature_9     ...       feature_760  \\\n",
       "0  -0.246189  -0.042812   0.110341  -0.698179     ...         -0.180544   \n",
       "1   0.162305  -0.148927   0.142731  -0.011801     ...          0.069228   \n",
       "2  -1.167563   1.226244   1.086993  -0.053461     ...         -1.328980   \n",
       "3  -0.646739   0.179483   0.124432   0.776010     ...         -0.010719   \n",
       "4   0.393720   0.159785  -0.751585  -1.159093     ...         -0.806075   \n",
       "\n",
       "   feature_761  feature_762  feature_763  feature_764  feature_765  \\\n",
       "0     0.720984    -0.048264     0.168162    -0.040482    -0.789424   \n",
       "1    -0.050886    -0.565478     0.064885     0.066026    -0.407953   \n",
       "2    -0.004549    -1.039244     0.413667    -0.353347     1.104391   \n",
       "3     0.660402    -1.323791    -0.091303     0.477664     0.746058   \n",
       "4     0.534299    -0.993201     0.368099     0.368674    -0.500146   \n",
       "\n",
       "   feature_766  feature_767  feature_768  feature_769  \n",
       "0     0.728364     0.194325           46            8  \n",
       "1    -0.025636     0.636805           39            6  \n",
       "2    -0.833524     0.122031           15            1  \n",
       "3    -0.441786     0.078916           15            2  \n",
       "4    -0.428940     0.510619            2            1  \n",
       "\n",
       "[5 rows x 770 columns]"
      ]
     },
     "execution_count": 25,
     "metadata": {},
     "output_type": "execute_result"
    }
   ],
   "source": [
    "# читаем test\n",
    "test = pd.read_csv('test.csv')\n",
    "test.head()"
   ]
  },
  {
   "cell_type": "code",
   "execution_count": 26,
   "metadata": {},
   "outputs": [
    {
     "data": {
      "text/plain": [
       "(44747, 770)"
      ]
     },
     "execution_count": 26,
     "metadata": {},
     "output_type": "execute_result"
    }
   ],
   "source": [
    "test.shape"
   ]
  },
  {
   "cell_type": "code",
   "execution_count": 27,
   "metadata": {},
   "outputs": [
    {
     "data": {
      "text/html": [
       "<div>\n",
       "<style scoped>\n",
       "    .dataframe tbody tr th:only-of-type {\n",
       "        vertical-align: middle;\n",
       "    }\n",
       "\n",
       "    .dataframe tbody tr th {\n",
       "        vertical-align: top;\n",
       "    }\n",
       "\n",
       "    .dataframe thead th {\n",
       "        text-align: right;\n",
       "    }\n",
       "</style>\n",
       "<table border=\"1\" class=\"dataframe\">\n",
       "  <thead>\n",
       "    <tr style=\"text-align: right;\">\n",
       "      <th></th>\n",
       "      <th>feature_0</th>\n",
       "      <th>feature_1</th>\n",
       "      <th>feature_2</th>\n",
       "      <th>feature_3</th>\n",
       "      <th>feature_4</th>\n",
       "      <th>feature_5</th>\n",
       "      <th>feature_6</th>\n",
       "      <th>feature_7</th>\n",
       "      <th>feature_8</th>\n",
       "      <th>feature_9</th>\n",
       "      <th>...</th>\n",
       "      <th>feature_760</th>\n",
       "      <th>feature_761</th>\n",
       "      <th>feature_762</th>\n",
       "      <th>feature_763</th>\n",
       "      <th>feature_764</th>\n",
       "      <th>feature_765</th>\n",
       "      <th>feature_766</th>\n",
       "      <th>feature_767</th>\n",
       "      <th>feature_768</th>\n",
       "      <th>feature_769</th>\n",
       "    </tr>\n",
       "  </thead>\n",
       "  <tbody>\n",
       "    <tr>\n",
       "      <th>0</th>\n",
       "      <td>0.291123</td>\n",
       "      <td>-0.253527</td>\n",
       "      <td>0.083138</td>\n",
       "      <td>0.135609</td>\n",
       "      <td>-0.076418</td>\n",
       "      <td>-0.633257</td>\n",
       "      <td>-0.246189</td>\n",
       "      <td>-0.042812</td>\n",
       "      <td>0.110341</td>\n",
       "      <td>-0.698179</td>\n",
       "      <td>...</td>\n",
       "      <td>-0.180544</td>\n",
       "      <td>0.720984</td>\n",
       "      <td>-0.048264</td>\n",
       "      <td>0.168162</td>\n",
       "      <td>-0.040482</td>\n",
       "      <td>-0.789424</td>\n",
       "      <td>0.728364</td>\n",
       "      <td>0.194325</td>\n",
       "      <td>3.828641</td>\n",
       "      <td>2.079442</td>\n",
       "    </tr>\n",
       "    <tr>\n",
       "      <th>1</th>\n",
       "      <td>0.163060</td>\n",
       "      <td>0.234249</td>\n",
       "      <td>-0.548482</td>\n",
       "      <td>-0.342477</td>\n",
       "      <td>-0.249341</td>\n",
       "      <td>-0.985170</td>\n",
       "      <td>0.162305</td>\n",
       "      <td>-0.148927</td>\n",
       "      <td>0.142731</td>\n",
       "      <td>-0.011801</td>\n",
       "      <td>...</td>\n",
       "      <td>0.069228</td>\n",
       "      <td>-0.050886</td>\n",
       "      <td>-0.565478</td>\n",
       "      <td>0.064885</td>\n",
       "      <td>0.066026</td>\n",
       "      <td>-0.407953</td>\n",
       "      <td>-0.025636</td>\n",
       "      <td>0.636805</td>\n",
       "      <td>3.663562</td>\n",
       "      <td>1.791759</td>\n",
       "    </tr>\n",
       "    <tr>\n",
       "      <th>2</th>\n",
       "      <td>0.703451</td>\n",
       "      <td>0.098007</td>\n",
       "      <td>0.544434</td>\n",
       "      <td>0.014882</td>\n",
       "      <td>0.518644</td>\n",
       "      <td>-1.115419</td>\n",
       "      <td>-1.167563</td>\n",
       "      <td>1.226244</td>\n",
       "      <td>1.086993</td>\n",
       "      <td>-0.053461</td>\n",
       "      <td>...</td>\n",
       "      <td>-1.328980</td>\n",
       "      <td>-0.004549</td>\n",
       "      <td>-1.039244</td>\n",
       "      <td>0.413667</td>\n",
       "      <td>-0.353347</td>\n",
       "      <td>1.104391</td>\n",
       "      <td>-0.833524</td>\n",
       "      <td>0.122031</td>\n",
       "      <td>2.708050</td>\n",
       "      <td>0.000000</td>\n",
       "    </tr>\n",
       "    <tr>\n",
       "      <th>3</th>\n",
       "      <td>0.061817</td>\n",
       "      <td>0.186173</td>\n",
       "      <td>0.763211</td>\n",
       "      <td>1.427817</td>\n",
       "      <td>-0.001758</td>\n",
       "      <td>0.213115</td>\n",
       "      <td>-0.646739</td>\n",
       "      <td>0.179483</td>\n",
       "      <td>0.124432</td>\n",
       "      <td>0.776010</td>\n",
       "      <td>...</td>\n",
       "      <td>-0.010719</td>\n",
       "      <td>0.660402</td>\n",
       "      <td>-1.323791</td>\n",
       "      <td>-0.091303</td>\n",
       "      <td>0.477664</td>\n",
       "      <td>0.746058</td>\n",
       "      <td>-0.441786</td>\n",
       "      <td>0.078916</td>\n",
       "      <td>2.708050</td>\n",
       "      <td>0.693147</td>\n",
       "    </tr>\n",
       "    <tr>\n",
       "      <th>4</th>\n",
       "      <td>0.899542</td>\n",
       "      <td>-0.470085</td>\n",
       "      <td>0.829839</td>\n",
       "      <td>-0.233863</td>\n",
       "      <td>-0.282362</td>\n",
       "      <td>-0.952958</td>\n",
       "      <td>0.393720</td>\n",
       "      <td>0.159785</td>\n",
       "      <td>-0.751585</td>\n",
       "      <td>-1.159093</td>\n",
       "      <td>...</td>\n",
       "      <td>-0.806075</td>\n",
       "      <td>0.534299</td>\n",
       "      <td>-0.993201</td>\n",
       "      <td>0.368099</td>\n",
       "      <td>0.368674</td>\n",
       "      <td>-0.500146</td>\n",
       "      <td>-0.428940</td>\n",
       "      <td>0.510619</td>\n",
       "      <td>0.693147</td>\n",
       "      <td>0.000000</td>\n",
       "    </tr>\n",
       "  </tbody>\n",
       "</table>\n",
       "<p>5 rows × 770 columns</p>\n",
       "</div>"
      ],
      "text/plain": [
       "   feature_0  feature_1  feature_2  feature_3  feature_4  feature_5  \\\n",
       "0   0.291123  -0.253527   0.083138   0.135609  -0.076418  -0.633257   \n",
       "1   0.163060   0.234249  -0.548482  -0.342477  -0.249341  -0.985170   \n",
       "2   0.703451   0.098007   0.544434   0.014882   0.518644  -1.115419   \n",
       "3   0.061817   0.186173   0.763211   1.427817  -0.001758   0.213115   \n",
       "4   0.899542  -0.470085   0.829839  -0.233863  -0.282362  -0.952958   \n",
       "\n",
       "   feature_6  feature_7  feature_8  feature_9     ...       feature_760  \\\n",
       "0  -0.246189  -0.042812   0.110341  -0.698179     ...         -0.180544   \n",
       "1   0.162305  -0.148927   0.142731  -0.011801     ...          0.069228   \n",
       "2  -1.167563   1.226244   1.086993  -0.053461     ...         -1.328980   \n",
       "3  -0.646739   0.179483   0.124432   0.776010     ...         -0.010719   \n",
       "4   0.393720   0.159785  -0.751585  -1.159093     ...         -0.806075   \n",
       "\n",
       "   feature_761  feature_762  feature_763  feature_764  feature_765  \\\n",
       "0     0.720984    -0.048264     0.168162    -0.040482    -0.789424   \n",
       "1    -0.050886    -0.565478     0.064885     0.066026    -0.407953   \n",
       "2    -0.004549    -1.039244     0.413667    -0.353347     1.104391   \n",
       "3     0.660402    -1.323791    -0.091303     0.477664     0.746058   \n",
       "4     0.534299    -0.993201     0.368099     0.368674    -0.500146   \n",
       "\n",
       "   feature_766  feature_767  feature_768  feature_769  \n",
       "0     0.728364     0.194325     3.828641     2.079442  \n",
       "1    -0.025636     0.636805     3.663562     1.791759  \n",
       "2    -0.833524     0.122031     2.708050     0.000000  \n",
       "3    -0.441786     0.078916     2.708050     0.693147  \n",
       "4    -0.428940     0.510619     0.693147     0.000000  \n",
       "\n",
       "[5 rows x 770 columns]"
      ]
     },
     "execution_count": 27,
     "metadata": {},
     "output_type": "execute_result"
    }
   ],
   "source": [
    "# так же оптимизируем, как и на train\n",
    "test.iloc[:,-1] = np.log(test.iloc[:,-1])\n",
    "test.iloc[:,-2] = np.log(test.iloc[:,-2])\n",
    "test.head()"
   ]
  },
  {
   "cell_type": "code",
   "execution_count": 28,
   "metadata": {},
   "outputs": [
    {
     "data": {
      "text/plain": [
       "0"
      ]
     },
     "execution_count": 28,
     "metadata": {},
     "output_type": "execute_result"
    }
   ],
   "source": [
    "test.isnull().sum().sum()"
   ]
  },
  {
   "cell_type": "code",
   "execution_count": 38,
   "metadata": {},
   "outputs": [],
   "source": [
    "# делаем предикшн\n",
    "y_pred = model.predict_classes(np.array(test))"
   ]
  },
  {
   "cell_type": "code",
   "execution_count": 39,
   "metadata": {},
   "outputs": [
    {
     "data": {
      "text/html": [
       "<div>\n",
       "<style scoped>\n",
       "    .dataframe tbody tr th:only-of-type {\n",
       "        vertical-align: middle;\n",
       "    }\n",
       "\n",
       "    .dataframe tbody tr th {\n",
       "        vertical-align: top;\n",
       "    }\n",
       "\n",
       "    .dataframe thead th {\n",
       "        text-align: right;\n",
       "    }\n",
       "</style>\n",
       "<table border=\"1\" class=\"dataframe\">\n",
       "  <thead>\n",
       "    <tr style=\"text-align: right;\">\n",
       "      <th></th>\n",
       "      <th>0</th>\n",
       "    </tr>\n",
       "  </thead>\n",
       "  <tbody>\n",
       "    <tr>\n",
       "      <th>0</th>\n",
       "      <td>7</td>\n",
       "    </tr>\n",
       "    <tr>\n",
       "      <th>1</th>\n",
       "      <td>7</td>\n",
       "    </tr>\n",
       "    <tr>\n",
       "      <th>2</th>\n",
       "      <td>7</td>\n",
       "    </tr>\n",
       "    <tr>\n",
       "      <th>3</th>\n",
       "      <td>7</td>\n",
       "    </tr>\n",
       "    <tr>\n",
       "      <th>4</th>\n",
       "      <td>7</td>\n",
       "    </tr>\n",
       "  </tbody>\n",
       "</table>\n",
       "</div>"
      ],
      "text/plain": [
       "   0\n",
       "0  7\n",
       "1  7\n",
       "2  7\n",
       "3  7\n",
       "4  7"
      ]
     },
     "execution_count": 39,
     "metadata": {},
     "output_type": "execute_result"
    }
   ],
   "source": [
    "# переводим в df\n",
    "pred = pd.DataFrame(y_pred)\n",
    "pred.head()"
   ]
  },
  {
   "cell_type": "code",
   "execution_count": 40,
   "metadata": {},
   "outputs": [
    {
     "data": {
      "text/plain": [
       "7     39825\n",
       "4      1520\n",
       "11      657\n",
       "5       491\n",
       "6       487\n",
       "1       340\n",
       "9       299\n",
       "0       298\n",
       "10      225\n",
       "12      172\n",
       "8       160\n",
       "3       117\n",
       "13       97\n",
       "2        59\n",
       "Name: 0, dtype: int64"
      ]
     },
     "execution_count": 40,
     "metadata": {},
     "output_type": "execute_result"
    }
   ],
   "source": [
    "# смотрим предиктнутое распределение классов\n",
    "pd.value_counts(pred[0])"
   ]
  },
  {
   "cell_type": "markdown",
   "metadata": {},
   "source": [
    "##### Ниже обработка данных для сабмита"
   ]
  },
  {
   "cell_type": "code",
   "execution_count": 32,
   "metadata": {},
   "outputs": [
    {
     "data": {
      "text/html": [
       "<div>\n",
       "<style scoped>\n",
       "    .dataframe tbody tr th:only-of-type {\n",
       "        vertical-align: middle;\n",
       "    }\n",
       "\n",
       "    .dataframe tbody tr th {\n",
       "        vertical-align: top;\n",
       "    }\n",
       "\n",
       "    .dataframe thead th {\n",
       "        text-align: right;\n",
       "    }\n",
       "</style>\n",
       "<table border=\"1\" class=\"dataframe\">\n",
       "  <thead>\n",
       "    <tr style=\"text-align: right;\">\n",
       "      <th></th>\n",
       "      <th>class_label</th>\n",
       "    </tr>\n",
       "  </thead>\n",
       "  <tbody>\n",
       "    <tr>\n",
       "      <th>0</th>\n",
       "      <td>7</td>\n",
       "    </tr>\n",
       "    <tr>\n",
       "      <th>1</th>\n",
       "      <td>7</td>\n",
       "    </tr>\n",
       "    <tr>\n",
       "      <th>2</th>\n",
       "      <td>7</td>\n",
       "    </tr>\n",
       "    <tr>\n",
       "      <th>3</th>\n",
       "      <td>7</td>\n",
       "    </tr>\n",
       "    <tr>\n",
       "      <th>4</th>\n",
       "      <td>7</td>\n",
       "    </tr>\n",
       "  </tbody>\n",
       "</table>\n",
       "</div>"
      ],
      "text/plain": [
       "   class_label\n",
       "0            7\n",
       "1            7\n",
       "2            7\n",
       "3            7\n",
       "4            7"
      ]
     },
     "execution_count": 32,
     "metadata": {},
     "output_type": "execute_result"
    }
   ],
   "source": [
    "pred.columns = ['class_label']\n",
    "pred.head()"
   ]
  },
  {
   "cell_type": "code",
   "execution_count": 34,
   "metadata": {},
   "outputs": [
    {
     "data": {
      "text/html": [
       "<div>\n",
       "<style scoped>\n",
       "    .dataframe tbody tr th:only-of-type {\n",
       "        vertical-align: middle;\n",
       "    }\n",
       "\n",
       "    .dataframe tbody tr th {\n",
       "        vertical-align: top;\n",
       "    }\n",
       "\n",
       "    .dataframe thead th {\n",
       "        text-align: right;\n",
       "    }\n",
       "</style>\n",
       "<table border=\"1\" class=\"dataframe\">\n",
       "  <thead>\n",
       "    <tr style=\"text-align: right;\">\n",
       "      <th></th>\n",
       "      <th>class_label</th>\n",
       "      <th>id</th>\n",
       "    </tr>\n",
       "  </thead>\n",
       "  <tbody>\n",
       "    <tr>\n",
       "      <th>0</th>\n",
       "      <td>7</td>\n",
       "      <td>0</td>\n",
       "    </tr>\n",
       "    <tr>\n",
       "      <th>1</th>\n",
       "      <td>7</td>\n",
       "      <td>1</td>\n",
       "    </tr>\n",
       "    <tr>\n",
       "      <th>2</th>\n",
       "      <td>7</td>\n",
       "      <td>2</td>\n",
       "    </tr>\n",
       "    <tr>\n",
       "      <th>3</th>\n",
       "      <td>7</td>\n",
       "      <td>3</td>\n",
       "    </tr>\n",
       "    <tr>\n",
       "      <th>4</th>\n",
       "      <td>7</td>\n",
       "      <td>4</td>\n",
       "    </tr>\n",
       "  </tbody>\n",
       "</table>\n",
       "</div>"
      ],
      "text/plain": [
       "   class_label  id\n",
       "0            7   0\n",
       "1            7   1\n",
       "2            7   2\n",
       "3            7   3\n",
       "4            7   4"
      ]
     },
     "execution_count": 34,
     "metadata": {},
     "output_type": "execute_result"
    }
   ],
   "source": [
    "pred['id']=pred.index\n",
    "pred = pred.reset_index(drop=True)\n",
    "pred.head()"
   ]
  },
  {
   "cell_type": "code",
   "execution_count": 35,
   "metadata": {},
   "outputs": [
    {
     "data": {
      "text/html": [
       "<div>\n",
       "<style scoped>\n",
       "    .dataframe tbody tr th:only-of-type {\n",
       "        vertical-align: middle;\n",
       "    }\n",
       "\n",
       "    .dataframe tbody tr th {\n",
       "        vertical-align: top;\n",
       "    }\n",
       "\n",
       "    .dataframe thead th {\n",
       "        text-align: right;\n",
       "    }\n",
       "</style>\n",
       "<table border=\"1\" class=\"dataframe\">\n",
       "  <thead>\n",
       "    <tr style=\"text-align: right;\">\n",
       "      <th></th>\n",
       "      <th>id</th>\n",
       "      <th>class_label</th>\n",
       "    </tr>\n",
       "  </thead>\n",
       "  <tbody>\n",
       "    <tr>\n",
       "      <th>0</th>\n",
       "      <td>0</td>\n",
       "      <td>7</td>\n",
       "    </tr>\n",
       "    <tr>\n",
       "      <th>1</th>\n",
       "      <td>1</td>\n",
       "      <td>7</td>\n",
       "    </tr>\n",
       "    <tr>\n",
       "      <th>2</th>\n",
       "      <td>2</td>\n",
       "      <td>7</td>\n",
       "    </tr>\n",
       "    <tr>\n",
       "      <th>3</th>\n",
       "      <td>3</td>\n",
       "      <td>7</td>\n",
       "    </tr>\n",
       "    <tr>\n",
       "      <th>4</th>\n",
       "      <td>4</td>\n",
       "      <td>7</td>\n",
       "    </tr>\n",
       "  </tbody>\n",
       "</table>\n",
       "</div>"
      ],
      "text/plain": [
       "   id  class_label\n",
       "0   0            7\n",
       "1   1            7\n",
       "2   2            7\n",
       "3   3            7\n",
       "4   4            7"
      ]
     },
     "execution_count": 35,
     "metadata": {},
     "output_type": "execute_result"
    }
   ],
   "source": [
    "pred = pred[['id', 'class_label']]\n",
    "pred.head()"
   ]
  },
  {
   "cell_type": "code",
   "execution_count": 36,
   "metadata": {},
   "outputs": [],
   "source": [
    "pred.to_csv('model_submit.csv', index=False)"
   ]
  },
  {
   "cell_type": "markdown",
   "metadata": {},
   "source": [
    "## Kaggle score = 0.966"
   ]
  }
 ],
 "metadata": {
  "kernelspec": {
   "display_name": "Python 3",
   "language": "python",
   "name": "python3"
  },
  "language_info": {
   "codemirror_mode": {
    "name": "ipython",
    "version": 3
   },
   "file_extension": ".py",
   "mimetype": "text/x-python",
   "name": "python",
   "nbconvert_exporter": "python",
   "pygments_lexer": "ipython3",
   "version": "3.7.1"
  }
 },
 "nbformat": 4,
 "nbformat_minor": 2
}
